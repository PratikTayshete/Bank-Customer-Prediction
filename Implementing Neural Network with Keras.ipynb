{
 "cells": [
  {
   "cell_type": "markdown",
   "metadata": {},
   "source": [
    "# Problem Description"
   ]
  },
  {
   "cell_type": "markdown",
   "metadata": {},
   "source": [
    "* The data used in the implementation is a dummy data from a bank that contains information about it's customers. \n",
    "\n",
    "* Different type of information is recorded for each customer (Check the CSV file). \n",
    "\n",
    "* The goal is to build a model on the given dataset and make a prediction whether a customer will leave the bank or not."
   ]
  },
  {
   "cell_type": "markdown",
   "metadata": {},
   "source": [
    "# Packages"
   ]
  },
  {
   "cell_type": "code",
   "execution_count": 1,
   "metadata": {},
   "outputs": [
    {
     "name": "stderr",
     "output_type": "stream",
     "text": [
      "Using TensorFlow backend.\n"
     ]
    }
   ],
   "source": [
    "import pandas as pd\n",
    "import numpy as np\n",
    "from sklearn.preprocessing import LabelEncoder, OneHotEncoder\n",
    "from sklearn.model_selection import train_test_split\n",
    "from sklearn.preprocessing import StandardScaler\n",
    "from sklearn.metrics import confusion_matrix, accuracy_score\n",
    "import keras\n",
    "from keras.models import Sequential\n",
    "from keras.layers import Dense\n",
    "from keras.models import load_model"
   ]
  },
  {
   "cell_type": "markdown",
   "metadata": {},
   "source": [
    "# Import and Explore the Data"
   ]
  },
  {
   "cell_type": "code",
   "execution_count": 2,
   "metadata": {},
   "outputs": [],
   "source": [
    "#Read the csv file\n",
    "dataset = pd.read_csv('data/Churn_Modelling.csv')"
   ]
  },
  {
   "cell_type": "code",
   "execution_count": 3,
   "metadata": {},
   "outputs": [
    {
     "data": {
      "text/html": [
       "<div>\n",
       "<style scoped>\n",
       "    .dataframe tbody tr th:only-of-type {\n",
       "        vertical-align: middle;\n",
       "    }\n",
       "\n",
       "    .dataframe tbody tr th {\n",
       "        vertical-align: top;\n",
       "    }\n",
       "\n",
       "    .dataframe thead th {\n",
       "        text-align: right;\n",
       "    }\n",
       "</style>\n",
       "<table border=\"1\" class=\"dataframe\">\n",
       "  <thead>\n",
       "    <tr style=\"text-align: right;\">\n",
       "      <th></th>\n",
       "      <th>RowNumber</th>\n",
       "      <th>CustomerId</th>\n",
       "      <th>Surname</th>\n",
       "      <th>CreditScore</th>\n",
       "      <th>Geography</th>\n",
       "      <th>Gender</th>\n",
       "      <th>Age</th>\n",
       "      <th>Tenure</th>\n",
       "      <th>Balance</th>\n",
       "      <th>NumOfProducts</th>\n",
       "      <th>HasCrCard</th>\n",
       "      <th>IsActiveMember</th>\n",
       "      <th>EstimatedSalary</th>\n",
       "      <th>Exited</th>\n",
       "    </tr>\n",
       "  </thead>\n",
       "  <tbody>\n",
       "    <tr>\n",
       "      <th>0</th>\n",
       "      <td>1</td>\n",
       "      <td>15634602</td>\n",
       "      <td>Hargrave</td>\n",
       "      <td>619</td>\n",
       "      <td>France</td>\n",
       "      <td>Female</td>\n",
       "      <td>42</td>\n",
       "      <td>2</td>\n",
       "      <td>0.00</td>\n",
       "      <td>1</td>\n",
       "      <td>1</td>\n",
       "      <td>1</td>\n",
       "      <td>101348.88</td>\n",
       "      <td>1</td>\n",
       "    </tr>\n",
       "    <tr>\n",
       "      <th>1</th>\n",
       "      <td>2</td>\n",
       "      <td>15647311</td>\n",
       "      <td>Hill</td>\n",
       "      <td>608</td>\n",
       "      <td>Spain</td>\n",
       "      <td>Female</td>\n",
       "      <td>41</td>\n",
       "      <td>1</td>\n",
       "      <td>83807.86</td>\n",
       "      <td>1</td>\n",
       "      <td>0</td>\n",
       "      <td>1</td>\n",
       "      <td>112542.58</td>\n",
       "      <td>0</td>\n",
       "    </tr>\n",
       "    <tr>\n",
       "      <th>2</th>\n",
       "      <td>3</td>\n",
       "      <td>15619304</td>\n",
       "      <td>Onio</td>\n",
       "      <td>502</td>\n",
       "      <td>France</td>\n",
       "      <td>Female</td>\n",
       "      <td>42</td>\n",
       "      <td>8</td>\n",
       "      <td>159660.80</td>\n",
       "      <td>3</td>\n",
       "      <td>1</td>\n",
       "      <td>0</td>\n",
       "      <td>113931.57</td>\n",
       "      <td>1</td>\n",
       "    </tr>\n",
       "    <tr>\n",
       "      <th>3</th>\n",
       "      <td>4</td>\n",
       "      <td>15701354</td>\n",
       "      <td>Boni</td>\n",
       "      <td>699</td>\n",
       "      <td>France</td>\n",
       "      <td>Female</td>\n",
       "      <td>39</td>\n",
       "      <td>1</td>\n",
       "      <td>0.00</td>\n",
       "      <td>2</td>\n",
       "      <td>0</td>\n",
       "      <td>0</td>\n",
       "      <td>93826.63</td>\n",
       "      <td>0</td>\n",
       "    </tr>\n",
       "    <tr>\n",
       "      <th>4</th>\n",
       "      <td>5</td>\n",
       "      <td>15737888</td>\n",
       "      <td>Mitchell</td>\n",
       "      <td>850</td>\n",
       "      <td>Spain</td>\n",
       "      <td>Female</td>\n",
       "      <td>43</td>\n",
       "      <td>2</td>\n",
       "      <td>125510.82</td>\n",
       "      <td>1</td>\n",
       "      <td>1</td>\n",
       "      <td>1</td>\n",
       "      <td>79084.10</td>\n",
       "      <td>0</td>\n",
       "    </tr>\n",
       "  </tbody>\n",
       "</table>\n",
       "</div>"
      ],
      "text/plain": [
       "   RowNumber  CustomerId   Surname  CreditScore Geography  Gender  Age  \\\n",
       "0          1    15634602  Hargrave          619    France  Female   42   \n",
       "1          2    15647311      Hill          608     Spain  Female   41   \n",
       "2          3    15619304      Onio          502    France  Female   42   \n",
       "3          4    15701354      Boni          699    France  Female   39   \n",
       "4          5    15737888  Mitchell          850     Spain  Female   43   \n",
       "\n",
       "   Tenure    Balance  NumOfProducts  HasCrCard  IsActiveMember  \\\n",
       "0       2       0.00              1          1               1   \n",
       "1       1   83807.86              1          0               1   \n",
       "2       8  159660.80              3          1               0   \n",
       "3       1       0.00              2          0               0   \n",
       "4       2  125510.82              1          1               1   \n",
       "\n",
       "   EstimatedSalary  Exited  \n",
       "0        101348.88       1  \n",
       "1        112542.58       0  \n",
       "2        113931.57       1  \n",
       "3         93826.63       0  \n",
       "4         79084.10       0  "
      ]
     },
     "execution_count": 3,
     "metadata": {},
     "output_type": "execute_result"
    }
   ],
   "source": [
    "#View the first few rows of the data\n",
    "dataset.head()"
   ]
  },
  {
   "cell_type": "code",
   "execution_count": 4,
   "metadata": {},
   "outputs": [
    {
     "data": {
      "text/plain": [
       "Index(['RowNumber', 'CustomerId', 'Surname', 'CreditScore', 'Geography',\n",
       "       'Gender', 'Age', 'Tenure', 'Balance', 'NumOfProducts', 'HasCrCard',\n",
       "       'IsActiveMember', 'EstimatedSalary', 'Exited'],\n",
       "      dtype='object')"
      ]
     },
     "execution_count": 4,
     "metadata": {},
     "output_type": "execute_result"
    }
   ],
   "source": [
    "#List of columns in the dataset\n",
    "dataset.columns"
   ]
  },
  {
   "cell_type": "code",
   "execution_count": 5,
   "metadata": {},
   "outputs": [
    {
     "data": {
      "text/plain": [
       "(10000, 14)"
      ]
     },
     "execution_count": 5,
     "metadata": {},
     "output_type": "execute_result"
    }
   ],
   "source": [
    "#Check the shape of the dataset (Rows, Columns)\n",
    "dataset.shape"
   ]
  },
  {
   "cell_type": "code",
   "execution_count": 6,
   "metadata": {},
   "outputs": [
    {
     "name": "stdout",
     "output_type": "stream",
     "text": [
      "<class 'pandas.core.frame.DataFrame'>\n",
      "RangeIndex: 10000 entries, 0 to 9999\n",
      "Data columns (total 14 columns):\n",
      "RowNumber          10000 non-null int64\n",
      "CustomerId         10000 non-null int64\n",
      "Surname            10000 non-null object\n",
      "CreditScore        10000 non-null int64\n",
      "Geography          10000 non-null object\n",
      "Gender             10000 non-null object\n",
      "Age                10000 non-null int64\n",
      "Tenure             10000 non-null int64\n",
      "Balance            10000 non-null float64\n",
      "NumOfProducts      10000 non-null int64\n",
      "HasCrCard          10000 non-null int64\n",
      "IsActiveMember     10000 non-null int64\n",
      "EstimatedSalary    10000 non-null float64\n",
      "Exited             10000 non-null int64\n",
      "dtypes: float64(2), int64(9), object(3)\n",
      "memory usage: 1.1+ MB\n"
     ]
    }
   ],
   "source": [
    "#Check the information about the dataset\n",
    "dataset.info()"
   ]
  },
  {
   "cell_type": "markdown",
   "metadata": {},
   "source": [
    "# Data Preprocessing"
   ]
  },
  {
   "cell_type": "markdown",
   "metadata": {},
   "source": [
    "## Seperating the Dependent and Independent Variables"
   ]
  },
  {
   "cell_type": "code",
   "execution_count": 7,
   "metadata": {},
   "outputs": [],
   "source": [
    "#Independent Variables\n",
    "X = dataset.iloc[:, 3:13].values\n",
    "#Dependent Variables\n",
    "Y = dataset.iloc[:, 13].values"
   ]
  },
  {
   "cell_type": "markdown",
   "metadata": {},
   "source": [
    "## Encoding the Categorical data"
   ]
  },
  {
   "cell_type": "code",
   "execution_count": 8,
   "metadata": {},
   "outputs": [
    {
     "data": {
      "text/plain": [
       "array([619, 'France', 'Female', 42, 2, 0.0, 1, 1, 1, 101348.88],\n",
       "      dtype=object)"
      ]
     },
     "execution_count": 8,
     "metadata": {},
     "output_type": "execute_result"
    }
   ],
   "source": [
    "#Check which data needs encoding - {Geography, Gender} -> {index1, index2}\n",
    "X[0]"
   ]
  },
  {
   "cell_type": "code",
   "execution_count": 9,
   "metadata": {},
   "outputs": [
    {
     "name": "stdout",
     "output_type": "stream",
     "text": [
      "['France' 'Spain' 'Germany']\n",
      "['Female' 'Male']\n"
     ]
    }
   ],
   "source": [
    "#Check the unique values of the category\n",
    "print(dataset['Geography'].unique())\n",
    "print(dataset['Gender'].unique())"
   ]
  },
  {
   "cell_type": "code",
   "execution_count": 10,
   "metadata": {},
   "outputs": [
    {
     "name": "stdout",
     "output_type": "stream",
     "text": [
      "Original Data: ['France' 'Spain' 'Germany'] got encoded to [0, 1, 2]\n",
      "Original Data: ['Female' 'Male'] got encoded to [0, 1]\n"
     ]
    }
   ],
   "source": [
    "#Generate numeric index labels for each unique value in the data\n",
    "#Eg: Male, Female -> 0, 1  OR England, Germany, France -> 0, 1, 2\n",
    "#NOTE: Each categorical data has a different encoder\n",
    "label_encoder_geography = LabelEncoder()\n",
    "label_encoder_gender = LabelEncoder()\n",
    "\n",
    "#Encode Geography column data\n",
    "X[:, 1] = label_encoder_geography.fit_transform(X[:, 1])\n",
    "\n",
    "#Encode the Gender column data\n",
    "X[:, 2] = label_encoder_gender.fit_transform(X[:, 2])\n",
    "\n",
    "\n",
    "#Check the encoded data for Geography Column\n",
    "print('Original Data: {} got encoded to {}'.format(dataset['Geography'].unique(), list(set(X[:, 1]))))\n",
    "\n",
    "#Check the encoded data for Gender Column\n",
    "print('Original Data: {} got encoded to {}'.format(dataset['Gender'].unique(), list(set(X[:, 2]))))"
   ]
  },
  {
   "cell_type": "code",
   "execution_count": 11,
   "metadata": {},
   "outputs": [
    {
     "name": "stderr",
     "output_type": "stream",
     "text": [
      "/usr/local/lib/python3.4/dist-packages/sklearn/preprocessing/_encoders.py:368: FutureWarning: The handling of integer data will change in version 0.22. Currently, the categories are determined based on the range [0, max(values)], while in the future they will be determined based on the unique values.\n",
      "If you want the future behaviour and silence this warning, you can specify \"categories='auto'\".\n",
      "In case you used a LabelEncoder before this OneHotEncoder to convert the categories to integers, then you can now use the OneHotEncoder directly.\n",
      "  warnings.warn(msg, FutureWarning)\n",
      "/usr/local/lib/python3.4/dist-packages/sklearn/preprocessing/_encoders.py:390: DeprecationWarning: The 'categorical_features' keyword is deprecated in version 0.20 and will be removed in 0.22. You can use the ColumnTransformer instead.\n",
      "  \"use the ColumnTransformer instead.\", DeprecationWarning)\n"
     ]
    }
   ],
   "source": [
    "#One Hot Encoding - Create Dummy Variables -> Values either 0 or 1 representing the presence or absence of categorical data\n",
    "\n",
    "onehot_encoder = OneHotEncoder(categorical_features= [1])\n",
    "\n",
    "X = onehot_encoder.fit_transform(X).toarray()"
   ]
  },
  {
   "cell_type": "code",
   "execution_count": 12,
   "metadata": {},
   "outputs": [
    {
     "data": {
      "text/plain": [
       "[1.0, 0.0, 0.0, 619.0, 0.0, 42.0, 2.0, 0.0, 1.0, 1.0, 1.0, 101348.88]"
      ]
     },
     "execution_count": 12,
     "metadata": {},
     "output_type": "execute_result"
    }
   ],
   "source": [
    "#Check the one hot encoded data\n",
    "\n",
    "[x for x in X[0]]"
   ]
  },
  {
   "cell_type": "code",
   "execution_count": 13,
   "metadata": {},
   "outputs": [],
   "source": [
    "#Avoid the dummy variable trap -> A situation in which two or more variables are highly correlated. Can predict one from another\n",
    "X = X[:, 1:]"
   ]
  },
  {
   "cell_type": "code",
   "execution_count": 14,
   "metadata": {},
   "outputs": [
    {
     "data": {
      "text/plain": [
       "[0.0, 0.0, 619.0, 0.0, 42.0, 2.0, 0.0, 1.0, 1.0, 1.0, 101348.88]"
      ]
     },
     "execution_count": 14,
     "metadata": {},
     "output_type": "execute_result"
    }
   ],
   "source": [
    "#Check the data\n",
    "[x for x in X[0]]"
   ]
  },
  {
   "cell_type": "markdown",
   "metadata": {},
   "source": [
    "## Split the data into Train and Test set"
   ]
  },
  {
   "cell_type": "code",
   "execution_count": 15,
   "metadata": {},
   "outputs": [],
   "source": [
    "X_train, X_test, Y_train, Y_test = train_test_split(X, Y, test_size = 0.2, random_state = 0)"
   ]
  },
  {
   "cell_type": "markdown",
   "metadata": {},
   "source": [
    "## Feature Scaling"
   ]
  },
  {
   "cell_type": "code",
   "execution_count": 16,
   "metadata": {},
   "outputs": [],
   "source": [
    "standard_scaler = StandardScaler()"
   ]
  },
  {
   "cell_type": "code",
   "execution_count": 17,
   "metadata": {},
   "outputs": [],
   "source": [
    "X_train = standard_scaler.fit_transform(X_train)"
   ]
  },
  {
   "cell_type": "code",
   "execution_count": 18,
   "metadata": {},
   "outputs": [],
   "source": [
    "X_test = standard_scaler.transform(X_test)"
   ]
  },
  {
   "cell_type": "code",
   "execution_count": 19,
   "metadata": {},
   "outputs": [
    {
     "name": "stdout",
     "output_type": "stream",
     "text": [
      "Scaled values sample from training set:\n",
      "[-0.57, 1.74, 0.17, -1.09, -0.46, 0.01, -1.22, 0.81, 0.64, -1.03, 1.11]\n",
      "\n",
      "Scaled values sample from test set:\n",
      "[1.75, -0.57, -0.55, -1.09, -0.37, 1.04, 0.88, -0.92, 0.64, 0.97, 1.61]\n"
     ]
    }
   ],
   "source": [
    "#Check the scaled values from train and test set\n",
    "print('Scaled values sample from training set:\\n{}'.format([round(x, 2) for x in X_train[0]]))\n",
    "\n",
    "print('\\nScaled values sample from test set:\\n{}'.format([round(x, 2) for x in X_test[0]]))"
   ]
  },
  {
   "cell_type": "markdown",
   "metadata": {},
   "source": [
    "# Build the Neural Network model"
   ]
  },
  {
   "cell_type": "code",
   "execution_count": 20,
   "metadata": {},
   "outputs": [],
   "source": [
    "#Initialise the model and add layers to it\n",
    "classifier_model = Sequential()"
   ]
  },
  {
   "cell_type": "code",
   "execution_count": 21,
   "metadata": {},
   "outputs": [],
   "source": [
    "classifier_model.add(layer = Dense(units = 6, kernel_initializer = 'uniform', activation = 'relu', input_shape = (11, )))"
   ]
  },
  {
   "cell_type": "code",
   "execution_count": 22,
   "metadata": {},
   "outputs": [],
   "source": [
    "classifier_model.add(layer = Dense(units = 6, kernel_initializer = 'uniform', activation = 'relu'))"
   ]
  },
  {
   "cell_type": "code",
   "execution_count": 23,
   "metadata": {},
   "outputs": [],
   "source": [
    "#Add the output layer\n",
    "classifier_model.add(layer = Dense(units = 1, kernel_initializer = 'uniform', activation = 'sigmoid'))"
   ]
  },
  {
   "cell_type": "code",
   "execution_count": 24,
   "metadata": {},
   "outputs": [
    {
     "name": "stdout",
     "output_type": "stream",
     "text": [
      "_________________________________________________________________\n",
      "Layer (type)                 Output Shape              Param #   \n",
      "=================================================================\n",
      "dense_1 (Dense)              (None, 6)                 72        \n",
      "_________________________________________________________________\n",
      "dense_2 (Dense)              (None, 6)                 42        \n",
      "_________________________________________________________________\n",
      "dense_3 (Dense)              (None, 1)                 7         \n",
      "=================================================================\n",
      "Total params: 121\n",
      "Trainable params: 121\n",
      "Non-trainable params: 0\n",
      "_________________________________________________________________\n"
     ]
    }
   ],
   "source": [
    "#Check the different layers added to the model\n",
    "classifier_model.summary()"
   ]
  },
  {
   "cell_type": "markdown",
   "metadata": {},
   "source": [
    "## Compile the Model"
   ]
  },
  {
   "cell_type": "code",
   "execution_count": 25,
   "metadata": {},
   "outputs": [],
   "source": [
    "classifier_model.compile(optimizer = 'adam', loss = 'binary_crossentropy', metrics = ['accuracy'])"
   ]
  },
  {
   "cell_type": "markdown",
   "metadata": {},
   "source": [
    "# Train the Model"
   ]
  },
  {
   "cell_type": "code",
   "execution_count": 26,
   "metadata": {},
   "outputs": [
    {
     "name": "stdout",
     "output_type": "stream",
     "text": [
      "Epoch 1/100\n",
      "8000/8000 [==============================] - 2s 209us/step - loss: 0.4809 - acc: 0.7957\n",
      "Epoch 2/100\n",
      "8000/8000 [==============================] - 1s 178us/step - loss: 0.4286 - acc: 0.7960\n",
      "Epoch 3/100\n",
      "8000/8000 [==============================] - 1s 173us/step - loss: 0.4231 - acc: 0.8009\n",
      "Epoch 4/100\n",
      "8000/8000 [==============================] - 1s 163us/step - loss: 0.4195 - acc: 0.8209\n",
      "Epoch 5/100\n",
      "8000/8000 [==============================] - 1s 159us/step - loss: 0.4172 - acc: 0.8275\n",
      "Epoch 6/100\n",
      "8000/8000 [==============================] - 1s 159us/step - loss: 0.4151 - acc: 0.8301\n",
      "Epoch 7/100\n",
      "8000/8000 [==============================] - 1s 162us/step - loss: 0.4132 - acc: 0.8304\n",
      "Epoch 8/100\n",
      "8000/8000 [==============================] - 1s 166us/step - loss: 0.4126 - acc: 0.8331\n",
      "Epoch 9/100\n",
      "8000/8000 [==============================] - 1s 165us/step - loss: 0.4112 - acc: 0.8316\n",
      "Epoch 10/100\n",
      "8000/8000 [==============================] - 1s 168us/step - loss: 0.4102 - acc: 0.8339\n",
      "Epoch 11/100\n",
      "8000/8000 [==============================] - 1s 165us/step - loss: 0.4094 - acc: 0.8342\n",
      "Epoch 12/100\n",
      "8000/8000 [==============================] - 1s 171us/step - loss: 0.4083 - acc: 0.8331\n",
      "Epoch 13/100\n",
      "8000/8000 [==============================] - 1s 165us/step - loss: 0.4081 - acc: 0.8337\n",
      "Epoch 14/100\n",
      "8000/8000 [==============================] - 1s 165us/step - loss: 0.4073 - acc: 0.8341\n",
      "Epoch 15/100\n",
      "8000/8000 [==============================] - 1s 167us/step - loss: 0.4065 - acc: 0.8352\n",
      "Epoch 16/100\n",
      "8000/8000 [==============================] - 1s 169us/step - loss: 0.4064 - acc: 0.8334\n",
      "Epoch 17/100\n",
      "8000/8000 [==============================] - 1s 169us/step - loss: 0.4056 - acc: 0.8351\n",
      "Epoch 18/100\n",
      "8000/8000 [==============================] - 1s 171us/step - loss: 0.4054 - acc: 0.8340\n",
      "Epoch 19/100\n",
      "8000/8000 [==============================] - 1s 187us/step - loss: 0.4053 - acc: 0.8345\n",
      "Epoch 20/100\n",
      "8000/8000 [==============================] - 2s 209us/step - loss: 0.4047 - acc: 0.8332\n",
      "Epoch 21/100\n",
      "8000/8000 [==============================] - 1s 169us/step - loss: 0.4048 - acc: 0.8352\n",
      "Epoch 22/100\n",
      "8000/8000 [==============================] - 1s 167us/step - loss: 0.4038 - acc: 0.8339\n",
      "Epoch 23/100\n",
      "8000/8000 [==============================] - 1s 170us/step - loss: 0.4042 - acc: 0.8349\n",
      "Epoch 24/100\n",
      "8000/8000 [==============================] - 1s 169us/step - loss: 0.4038 - acc: 0.8349\n",
      "Epoch 25/100\n",
      "8000/8000 [==============================] - 1s 172us/step - loss: 0.4037 - acc: 0.8361\n",
      "Epoch 26/100\n",
      "8000/8000 [==============================] - 1s 171us/step - loss: 0.4038 - acc: 0.8342\n",
      "Epoch 27/100\n",
      "8000/8000 [==============================] - 1s 175us/step - loss: 0.4034 - acc: 0.8351\n",
      "Epoch 28/100\n",
      "8000/8000 [==============================] - 1s 173us/step - loss: 0.4034 - acc: 0.8327\n",
      "Epoch 29/100\n",
      "8000/8000 [==============================] - 1s 174us/step - loss: 0.4032 - acc: 0.8341\n",
      "Epoch 30/100\n",
      "8000/8000 [==============================] - 1s 173us/step - loss: 0.4024 - acc: 0.8354\n",
      "Epoch 31/100\n",
      "8000/8000 [==============================] - 1s 174us/step - loss: 0.4026 - acc: 0.8351\n",
      "Epoch 32/100\n",
      "8000/8000 [==============================] - 1s 175us/step - loss: 0.4031 - acc: 0.8345\n",
      "Epoch 33/100\n",
      "8000/8000 [==============================] - 2s 217us/step - loss: 0.4027 - acc: 0.8349\n",
      "Epoch 34/100\n",
      "8000/8000 [==============================] - 1s 177us/step - loss: 0.4027 - acc: 0.8347\n",
      "Epoch 35/100\n",
      "8000/8000 [==============================] - 2s 196us/step - loss: 0.4025 - acc: 0.8341\n",
      "Epoch 36/100\n",
      "8000/8000 [==============================] - 1s 181us/step - loss: 0.4024 - acc: 0.8355\n",
      "Epoch 37/100\n",
      "8000/8000 [==============================] - 1s 177us/step - loss: 0.4024 - acc: 0.8352\n",
      "Epoch 38/100\n",
      "8000/8000 [==============================] - 1s 178us/step - loss: 0.4024 - acc: 0.8357\n",
      "Epoch 39/100\n",
      "8000/8000 [==============================] - 1s 180us/step - loss: 0.4025 - acc: 0.8337\n",
      "Epoch 40/100\n",
      "8000/8000 [==============================] - 1s 183us/step - loss: 0.4028 - acc: 0.8355\n",
      "Epoch 41/100\n",
      "8000/8000 [==============================] - 1s 176us/step - loss: 0.4022 - acc: 0.8354\n",
      "Epoch 42/100\n",
      "8000/8000 [==============================] - 2s 189us/step - loss: 0.4017 - acc: 0.8340\n",
      "Epoch 43/100\n",
      "8000/8000 [==============================] - 2s 196us/step - loss: 0.4018 - acc: 0.8357\n",
      "Epoch 44/100\n",
      "8000/8000 [==============================] - 2s 202us/step - loss: 0.4016 - acc: 0.8344\n",
      "Epoch 45/100\n",
      "8000/8000 [==============================] - 2s 210us/step - loss: 0.4020 - acc: 0.8356\n",
      "Epoch 46/100\n",
      "8000/8000 [==============================] - 1s 185us/step - loss: 0.4018 - acc: 0.8350\n",
      "Epoch 47/100\n",
      "8000/8000 [==============================] - 2s 211us/step - loss: 0.4015 - acc: 0.8352\n",
      "Epoch 48/100\n",
      "8000/8000 [==============================] - 1s 164us/step - loss: 0.4019 - acc: 0.8346\n",
      "Epoch 49/100\n",
      "8000/8000 [==============================] - 1s 168us/step - loss: 0.4013 - acc: 0.8364\n",
      "Epoch 50/100\n",
      "8000/8000 [==============================] - 1s 165us/step - loss: 0.4018 - acc: 0.8350\n",
      "Epoch 51/100\n",
      "8000/8000 [==============================] - 1s 163us/step - loss: 0.4014 - acc: 0.8349\n",
      "Epoch 52/100\n",
      "8000/8000 [==============================] - 1s 169us/step - loss: 0.4014 - acc: 0.8375\n",
      "Epoch 53/100\n",
      "8000/8000 [==============================] - 1s 160us/step - loss: 0.4016 - acc: 0.8362\n",
      "Epoch 54/100\n",
      "8000/8000 [==============================] - 1s 156us/step - loss: 0.4013 - acc: 0.8354\n",
      "Epoch 55/100\n",
      "8000/8000 [==============================] - 1s 155us/step - loss: 0.4013 - acc: 0.8362\n",
      "Epoch 56/100\n",
      "8000/8000 [==============================] - 1s 158us/step - loss: 0.4013 - acc: 0.8359\n",
      "Epoch 57/100\n",
      "8000/8000 [==============================] - 2s 199us/step - loss: 0.4013 - acc: 0.8346\n",
      "Epoch 58/100\n",
      "8000/8000 [==============================] - 2s 205us/step - loss: 0.4013 - acc: 0.8339\n",
      "Epoch 59/100\n",
      "8000/8000 [==============================] - 2s 199us/step - loss: 0.4010 - acc: 0.8351\n",
      "Epoch 60/100\n",
      "8000/8000 [==============================] - 2s 192us/step - loss: 0.4008 - acc: 0.8349\n",
      "Epoch 61/100\n",
      "8000/8000 [==============================] - 1s 187us/step - loss: 0.4013 - acc: 0.8344\n",
      "Epoch 62/100\n",
      "8000/8000 [==============================] - 2s 203us/step - loss: 0.4012 - acc: 0.8351\n",
      "Epoch 63/100\n",
      "8000/8000 [==============================] - 1s 178us/step - loss: 0.4010 - acc: 0.8347\n",
      "Epoch 64/100\n",
      "8000/8000 [==============================] - 1s 181us/step - loss: 0.4011 - acc: 0.8352\n",
      "Epoch 65/100\n",
      "8000/8000 [==============================] - 1s 178us/step - loss: 0.4008 - acc: 0.8350\n",
      "Epoch 66/100\n",
      "8000/8000 [==============================] - 1s 182us/step - loss: 0.4007 - acc: 0.8351\n",
      "Epoch 67/100\n",
      "8000/8000 [==============================] - 1s 176us/step - loss: 0.4004 - acc: 0.8356\n",
      "Epoch 68/100\n",
      "8000/8000 [==============================] - 1s 183us/step - loss: 0.4009 - acc: 0.8355\n",
      "Epoch 69/100\n",
      "8000/8000 [==============================] - 1s 183us/step - loss: 0.4006 - acc: 0.8357\n",
      "Epoch 70/100\n",
      "8000/8000 [==============================] - 1s 178us/step - loss: 0.4006 - acc: 0.8364\n",
      "Epoch 71/100\n",
      "8000/8000 [==============================] - 1s 180us/step - loss: 0.4004 - acc: 0.8346\n",
      "Epoch 72/100\n",
      "8000/8000 [==============================] - 1s 174us/step - loss: 0.4004 - acc: 0.8347\n",
      "Epoch 73/100\n",
      "8000/8000 [==============================] - 1s 169us/step - loss: 0.4005 - acc: 0.8347\n",
      "Epoch 74/100\n",
      "8000/8000 [==============================] - 1s 165us/step - loss: 0.4003 - acc: 0.8352\n",
      "Epoch 75/100\n",
      "8000/8000 [==============================] - 1s 168us/step - loss: 0.4003 - acc: 0.8355\n",
      "Epoch 76/100\n",
      "8000/8000 [==============================] - 1s 165us/step - loss: 0.4001 - acc: 0.8369\n",
      "Epoch 77/100\n",
      "8000/8000 [==============================] - 1s 164us/step - loss: 0.4003 - acc: 0.8354\n",
      "Epoch 78/100\n",
      "8000/8000 [==============================] - 1s 166us/step - loss: 0.4007 - acc: 0.8374\n",
      "Epoch 79/100\n",
      "8000/8000 [==============================] - 1s 166us/step - loss: 0.4002 - acc: 0.8344\n",
      "Epoch 80/100\n",
      "8000/8000 [==============================] - 1s 164us/step - loss: 0.4004 - acc: 0.8354\n",
      "Epoch 81/100\n",
      "8000/8000 [==============================] - 1s 165us/step - loss: 0.3999 - acc: 0.8362\n",
      "Epoch 82/100\n"
     ]
    },
    {
     "name": "stdout",
     "output_type": "stream",
     "text": [
      "8000/8000 [==============================] - 1s 155us/step - loss: 0.4007 - acc: 0.8345\n",
      "Epoch 83/100\n",
      "8000/8000 [==============================] - 1s 152us/step - loss: 0.4006 - acc: 0.8347\n",
      "Epoch 84/100\n",
      "8000/8000 [==============================] - 1s 163us/step - loss: 0.4003 - acc: 0.8366\n",
      "Epoch 85/100\n",
      "8000/8000 [==============================] - 1s 154us/step - loss: 0.4001 - acc: 0.8339\n",
      "Epoch 86/100\n",
      "8000/8000 [==============================] - 1s 156us/step - loss: 0.4005 - acc: 0.8352\n",
      "Epoch 87/100\n",
      "8000/8000 [==============================] - 1s 154us/step - loss: 0.4000 - acc: 0.8362\n",
      "Epoch 88/100\n",
      "8000/8000 [==============================] - 1s 150us/step - loss: 0.4000 - acc: 0.8344\n",
      "Epoch 89/100\n",
      "8000/8000 [==============================] - 1s 152us/step - loss: 0.4004 - acc: 0.8359\n",
      "Epoch 90/100\n",
      "8000/8000 [==============================] - 1s 151us/step - loss: 0.4000 - acc: 0.8365\n",
      "Epoch 91/100\n",
      "8000/8000 [==============================] - 1s 155us/step - loss: 0.4003 - acc: 0.8345\n",
      "Epoch 92/100\n",
      "8000/8000 [==============================] - 1s 154us/step - loss: 0.4002 - acc: 0.8352\n",
      "Epoch 93/100\n",
      "8000/8000 [==============================] - 1s 153us/step - loss: 0.4001 - acc: 0.8355\n",
      "Epoch 94/100\n",
      "8000/8000 [==============================] - 1s 154us/step - loss: 0.3998 - acc: 0.8360\n",
      "Epoch 95/100\n",
      "8000/8000 [==============================] - 1s 155us/step - loss: 0.4006 - acc: 0.8342\n",
      "Epoch 96/100\n",
      "8000/8000 [==============================] - 1s 154us/step - loss: 0.4005 - acc: 0.8344\n",
      "Epoch 97/100\n",
      "8000/8000 [==============================] - 1s 154us/step - loss: 0.4001 - acc: 0.8360\n",
      "Epoch 98/100\n",
      "8000/8000 [==============================] - 1s 150us/step - loss: 0.4005 - acc: 0.8351\n",
      "Epoch 99/100\n",
      "8000/8000 [==============================] - 1s 153us/step - loss: 0.4003 - acc: 0.8344\n",
      "Epoch 100/100\n",
      "8000/8000 [==============================] - 1s 154us/step - loss: 0.3998 - acc: 0.8361\n"
     ]
    },
    {
     "data": {
      "text/plain": [
       "<keras.callbacks.History at 0x7fad8f9bf0f0>"
      ]
     },
     "execution_count": 26,
     "metadata": {},
     "output_type": "execute_result"
    }
   ],
   "source": [
    "#Fit the NN to the Training set\n",
    "classifier_model.fit(x = X_train, y = Y_train, batch_size = 10, epochs = 100)"
   ]
  },
  {
   "cell_type": "markdown",
   "metadata": {},
   "source": [
    "# Predictions on the Test set and Evaluate the Model"
   ]
  },
  {
   "cell_type": "code",
   "execution_count": 27,
   "metadata": {},
   "outputs": [],
   "source": [
    "#Predict the result from the test set\n",
    "Y_prediction = classifier_model.predict(X_test)"
   ]
  },
  {
   "cell_type": "code",
   "execution_count": 28,
   "metadata": {},
   "outputs": [
    {
     "data": {
      "text/plain": [
       "array([[0.18823475],\n",
       "       [0.2873297 ],\n",
       "       [0.1536086 ],\n",
       "       ...,\n",
       "       [0.17667806],\n",
       "       [0.1510222 ],\n",
       "       [0.13656744]], dtype=float32)"
      ]
     },
     "execution_count": 28,
     "metadata": {},
     "output_type": "execute_result"
    }
   ],
   "source": [
    "#The prediction produces a probability value\n",
    "Y_prediction"
   ]
  },
  {
   "cell_type": "code",
   "execution_count": 29,
   "metadata": {},
   "outputs": [],
   "source": [
    "#Select a threshold to change the probabilities to a specific classification\n",
    "Y_prediction = (Y_prediction > 0.5) # 50% threshold -> If the probability is above 50%, the customer leaves the bank and if less the customer stays"
   ]
  },
  {
   "cell_type": "code",
   "execution_count": 30,
   "metadata": {},
   "outputs": [
    {
     "data": {
      "text/plain": [
       "array([[False],\n",
       "       [False],\n",
       "       [False],\n",
       "       ...,\n",
       "       [False],\n",
       "       [False],\n",
       "       [False]])"
      ]
     },
     "execution_count": 30,
     "metadata": {},
     "output_type": "execute_result"
    }
   ],
   "source": [
    "Y_prediction"
   ]
  },
  {
   "cell_type": "code",
   "execution_count": 31,
   "metadata": {},
   "outputs": [
    {
     "name": "stdout",
     "output_type": "stream",
     "text": [
      "[[1541   54]\n",
      " [ 268  137]]\n"
     ]
    }
   ],
   "source": [
    "#Check the Confusion Matrix\n",
    "print(confusion_matrix(Y_test, Y_prediction))"
   ]
  },
  {
   "cell_type": "code",
   "execution_count": 32,
   "metadata": {},
   "outputs": [
    {
     "name": "stdout",
     "output_type": "stream",
     "text": [
      "Accuracy: 83.90%\n"
     ]
    }
   ],
   "source": [
    "#Check the accuracy score\n",
    "print('Accuracy: {:.2f}%'.format(accuracy_score(Y_test, Y_prediction) * 100))"
   ]
  },
  {
   "cell_type": "markdown",
   "metadata": {},
   "source": [
    "# Save the model"
   ]
  },
  {
   "cell_type": "code",
   "execution_count": 33,
   "metadata": {},
   "outputs": [],
   "source": [
    "classifier_model.save(filepath = 'model/bank_customer_classification_model.h5')"
   ]
  },
  {
   "cell_type": "markdown",
   "metadata": {},
   "source": [
    "# Generate a new dataset from the previous one."
   ]
  },
  {
   "cell_type": "code",
   "execution_count": 34,
   "metadata": {},
   "outputs": [],
   "source": [
    "#Select any five random rows from the original dataset to test the saved model\n",
    "row_number = np.random.randint(low = 0, high = 10000, size = 5)"
   ]
  },
  {
   "cell_type": "code",
   "execution_count": 35,
   "metadata": {},
   "outputs": [
    {
     "data": {
      "text/plain": [
       "array([4103, 5330, 4108, 7680, 4631])"
      ]
     },
     "execution_count": 35,
     "metadata": {},
     "output_type": "execute_result"
    }
   ],
   "source": [
    "row_number"
   ]
  },
  {
   "cell_type": "code",
   "execution_count": 36,
   "metadata": {},
   "outputs": [
    {
     "data": {
      "text/html": [
       "<div>\n",
       "<style scoped>\n",
       "    .dataframe tbody tr th:only-of-type {\n",
       "        vertical-align: middle;\n",
       "    }\n",
       "\n",
       "    .dataframe tbody tr th {\n",
       "        vertical-align: top;\n",
       "    }\n",
       "\n",
       "    .dataframe thead th {\n",
       "        text-align: right;\n",
       "    }\n",
       "</style>\n",
       "<table border=\"1\" class=\"dataframe\">\n",
       "  <thead>\n",
       "    <tr style=\"text-align: right;\">\n",
       "      <th></th>\n",
       "      <th>RowNumber</th>\n",
       "      <th>CustomerId</th>\n",
       "      <th>Surname</th>\n",
       "      <th>CreditScore</th>\n",
       "      <th>Geography</th>\n",
       "      <th>Gender</th>\n",
       "      <th>Age</th>\n",
       "      <th>Tenure</th>\n",
       "      <th>Balance</th>\n",
       "      <th>NumOfProducts</th>\n",
       "      <th>HasCrCard</th>\n",
       "      <th>IsActiveMember</th>\n",
       "      <th>EstimatedSalary</th>\n",
       "      <th>Exited</th>\n",
       "    </tr>\n",
       "  </thead>\n",
       "  <tbody>\n",
       "    <tr>\n",
       "      <th>0</th>\n",
       "      <td>1</td>\n",
       "      <td>15634602</td>\n",
       "      <td>Hargrave</td>\n",
       "      <td>619</td>\n",
       "      <td>France</td>\n",
       "      <td>Female</td>\n",
       "      <td>42</td>\n",
       "      <td>2</td>\n",
       "      <td>0.00</td>\n",
       "      <td>1</td>\n",
       "      <td>1</td>\n",
       "      <td>1</td>\n",
       "      <td>101348.88</td>\n",
       "      <td>1</td>\n",
       "    </tr>\n",
       "    <tr>\n",
       "      <th>1</th>\n",
       "      <td>2</td>\n",
       "      <td>15647311</td>\n",
       "      <td>Hill</td>\n",
       "      <td>608</td>\n",
       "      <td>Spain</td>\n",
       "      <td>Female</td>\n",
       "      <td>41</td>\n",
       "      <td>1</td>\n",
       "      <td>83807.86</td>\n",
       "      <td>1</td>\n",
       "      <td>0</td>\n",
       "      <td>1</td>\n",
       "      <td>112542.58</td>\n",
       "      <td>0</td>\n",
       "    </tr>\n",
       "    <tr>\n",
       "      <th>2</th>\n",
       "      <td>3</td>\n",
       "      <td>15619304</td>\n",
       "      <td>Onio</td>\n",
       "      <td>502</td>\n",
       "      <td>France</td>\n",
       "      <td>Female</td>\n",
       "      <td>42</td>\n",
       "      <td>8</td>\n",
       "      <td>159660.80</td>\n",
       "      <td>3</td>\n",
       "      <td>1</td>\n",
       "      <td>0</td>\n",
       "      <td>113931.57</td>\n",
       "      <td>1</td>\n",
       "    </tr>\n",
       "    <tr>\n",
       "      <th>3</th>\n",
       "      <td>4</td>\n",
       "      <td>15701354</td>\n",
       "      <td>Boni</td>\n",
       "      <td>699</td>\n",
       "      <td>France</td>\n",
       "      <td>Female</td>\n",
       "      <td>39</td>\n",
       "      <td>1</td>\n",
       "      <td>0.00</td>\n",
       "      <td>2</td>\n",
       "      <td>0</td>\n",
       "      <td>0</td>\n",
       "      <td>93826.63</td>\n",
       "      <td>0</td>\n",
       "    </tr>\n",
       "    <tr>\n",
       "      <th>4</th>\n",
       "      <td>5</td>\n",
       "      <td>15737888</td>\n",
       "      <td>Mitchell</td>\n",
       "      <td>850</td>\n",
       "      <td>Spain</td>\n",
       "      <td>Female</td>\n",
       "      <td>43</td>\n",
       "      <td>2</td>\n",
       "      <td>125510.82</td>\n",
       "      <td>1</td>\n",
       "      <td>1</td>\n",
       "      <td>1</td>\n",
       "      <td>79084.10</td>\n",
       "      <td>0</td>\n",
       "    </tr>\n",
       "  </tbody>\n",
       "</table>\n",
       "</div>"
      ],
      "text/plain": [
       "   RowNumber  CustomerId   Surname  CreditScore Geography  Gender  Age  \\\n",
       "0          1    15634602  Hargrave          619    France  Female   42   \n",
       "1          2    15647311      Hill          608     Spain  Female   41   \n",
       "2          3    15619304      Onio          502    France  Female   42   \n",
       "3          4    15701354      Boni          699    France  Female   39   \n",
       "4          5    15737888  Mitchell          850     Spain  Female   43   \n",
       "\n",
       "   Tenure    Balance  NumOfProducts  HasCrCard  IsActiveMember  \\\n",
       "0       2       0.00              1          1               1   \n",
       "1       1   83807.86              1          0               1   \n",
       "2       8  159660.80              3          1               0   \n",
       "3       1       0.00              2          0               0   \n",
       "4       2  125510.82              1          1               1   \n",
       "\n",
       "   EstimatedSalary  Exited  \n",
       "0        101348.88       1  \n",
       "1        112542.58       0  \n",
       "2        113931.57       1  \n",
       "3         93826.63       0  \n",
       "4         79084.10       0  "
      ]
     },
     "execution_count": 36,
     "metadata": {},
     "output_type": "execute_result"
    }
   ],
   "source": [
    "#Previous Dataset\n",
    "dataset.head()"
   ]
  },
  {
   "cell_type": "code",
   "execution_count": 37,
   "metadata": {},
   "outputs": [],
   "source": [
    "test_dataset = dataset.iloc[row_number,:]"
   ]
  },
  {
   "cell_type": "code",
   "execution_count": 38,
   "metadata": {},
   "outputs": [
    {
     "data": {
      "text/html": [
       "<div>\n",
       "<style scoped>\n",
       "    .dataframe tbody tr th:only-of-type {\n",
       "        vertical-align: middle;\n",
       "    }\n",
       "\n",
       "    .dataframe tbody tr th {\n",
       "        vertical-align: top;\n",
       "    }\n",
       "\n",
       "    .dataframe thead th {\n",
       "        text-align: right;\n",
       "    }\n",
       "</style>\n",
       "<table border=\"1\" class=\"dataframe\">\n",
       "  <thead>\n",
       "    <tr style=\"text-align: right;\">\n",
       "      <th></th>\n",
       "      <th>RowNumber</th>\n",
       "      <th>CustomerId</th>\n",
       "      <th>Surname</th>\n",
       "      <th>CreditScore</th>\n",
       "      <th>Geography</th>\n",
       "      <th>Gender</th>\n",
       "      <th>Age</th>\n",
       "      <th>Tenure</th>\n",
       "      <th>Balance</th>\n",
       "      <th>NumOfProducts</th>\n",
       "      <th>HasCrCard</th>\n",
       "      <th>IsActiveMember</th>\n",
       "      <th>EstimatedSalary</th>\n",
       "      <th>Exited</th>\n",
       "    </tr>\n",
       "  </thead>\n",
       "  <tbody>\n",
       "    <tr>\n",
       "      <th>4103</th>\n",
       "      <td>4104</td>\n",
       "      <td>15693337</td>\n",
       "      <td>Perry</td>\n",
       "      <td>683</td>\n",
       "      <td>Spain</td>\n",
       "      <td>Male</td>\n",
       "      <td>41</td>\n",
       "      <td>0</td>\n",
       "      <td>148863.17</td>\n",
       "      <td>1</td>\n",
       "      <td>1</td>\n",
       "      <td>1</td>\n",
       "      <td>163911.32</td>\n",
       "      <td>0</td>\n",
       "    </tr>\n",
       "    <tr>\n",
       "      <th>5330</th>\n",
       "      <td>5331</td>\n",
       "      <td>15626212</td>\n",
       "      <td>Wark</td>\n",
       "      <td>616</td>\n",
       "      <td>France</td>\n",
       "      <td>Male</td>\n",
       "      <td>29</td>\n",
       "      <td>9</td>\n",
       "      <td>0.00</td>\n",
       "      <td>1</td>\n",
       "      <td>1</td>\n",
       "      <td>1</td>\n",
       "      <td>166984.44</td>\n",
       "      <td>0</td>\n",
       "    </tr>\n",
       "    <tr>\n",
       "      <th>4108</th>\n",
       "      <td>4109</td>\n",
       "      <td>15769389</td>\n",
       "      <td>Wan</td>\n",
       "      <td>709</td>\n",
       "      <td>Germany</td>\n",
       "      <td>Female</td>\n",
       "      <td>39</td>\n",
       "      <td>9</td>\n",
       "      <td>124723.92</td>\n",
       "      <td>1</td>\n",
       "      <td>1</td>\n",
       "      <td>0</td>\n",
       "      <td>73641.86</td>\n",
       "      <td>0</td>\n",
       "    </tr>\n",
       "    <tr>\n",
       "      <th>7680</th>\n",
       "      <td>7681</td>\n",
       "      <td>15665181</td>\n",
       "      <td>Chung</td>\n",
       "      <td>808</td>\n",
       "      <td>Spain</td>\n",
       "      <td>Male</td>\n",
       "      <td>25</td>\n",
       "      <td>7</td>\n",
       "      <td>0.00</td>\n",
       "      <td>2</td>\n",
       "      <td>0</td>\n",
       "      <td>1</td>\n",
       "      <td>23180.37</td>\n",
       "      <td>0</td>\n",
       "    </tr>\n",
       "    <tr>\n",
       "      <th>4631</th>\n",
       "      <td>4632</td>\n",
       "      <td>15706116</td>\n",
       "      <td>McKay</td>\n",
       "      <td>659</td>\n",
       "      <td>Germany</td>\n",
       "      <td>Female</td>\n",
       "      <td>30</td>\n",
       "      <td>8</td>\n",
       "      <td>154159.51</td>\n",
       "      <td>1</td>\n",
       "      <td>1</td>\n",
       "      <td>0</td>\n",
       "      <td>40441.10</td>\n",
       "      <td>0</td>\n",
       "    </tr>\n",
       "  </tbody>\n",
       "</table>\n",
       "</div>"
      ],
      "text/plain": [
       "      RowNumber  CustomerId Surname  CreditScore Geography  Gender  Age  \\\n",
       "4103       4104    15693337   Perry          683     Spain    Male   41   \n",
       "5330       5331    15626212    Wark          616    France    Male   29   \n",
       "4108       4109    15769389     Wan          709   Germany  Female   39   \n",
       "7680       7681    15665181   Chung          808     Spain    Male   25   \n",
       "4631       4632    15706116   McKay          659   Germany  Female   30   \n",
       "\n",
       "      Tenure    Balance  NumOfProducts  HasCrCard  IsActiveMember  \\\n",
       "4103       0  148863.17              1          1               1   \n",
       "5330       9       0.00              1          1               1   \n",
       "4108       9  124723.92              1          1               0   \n",
       "7680       7       0.00              2          0               1   \n",
       "4631       8  154159.51              1          1               0   \n",
       "\n",
       "      EstimatedSalary  Exited  \n",
       "4103        163911.32       0  \n",
       "5330        166984.44       0  \n",
       "4108         73641.86       0  \n",
       "7680         23180.37       0  \n",
       "4631         40441.10       0  "
      ]
     },
     "execution_count": 38,
     "metadata": {},
     "output_type": "execute_result"
    }
   ],
   "source": [
    "test_dataset"
   ]
  },
  {
   "cell_type": "markdown",
   "metadata": {},
   "source": [
    "# Preprocess the Test dataset"
   ]
  },
  {
   "cell_type": "code",
   "execution_count": 39,
   "metadata": {},
   "outputs": [],
   "source": [
    "#Seperate the dependent and independent variables\n",
    "X_new_test = test_dataset.iloc[:, 3:13].values"
   ]
  },
  {
   "cell_type": "code",
   "execution_count": 40,
   "metadata": {},
   "outputs": [
    {
     "data": {
      "text/plain": [
       "array([[683, 'Spain', 'Male', 41, 0, 148863.17, 1, 1, 1, 163911.32],\n",
       "       [616, 'France', 'Male', 29, 9, 0.0, 1, 1, 1, 166984.44],\n",
       "       [709, 'Germany', 'Female', 39, 9, 124723.92, 1, 1, 0, 73641.86],\n",
       "       [808, 'Spain', 'Male', 25, 7, 0.0, 2, 0, 1, 23180.37],\n",
       "       [659, 'Germany', 'Female', 30, 8, 154159.51, 1, 1, 0, 40441.1]],\n",
       "      dtype=object)"
      ]
     },
     "execution_count": 40,
     "metadata": {},
     "output_type": "execute_result"
    }
   ],
   "source": [
    "#View the data\n",
    "X_new_test"
   ]
  },
  {
   "cell_type": "code",
   "execution_count": 41,
   "metadata": {},
   "outputs": [],
   "source": [
    "#Encode the categorical Data\n",
    "geo_label_encoder_test = LabelEncoder()\n",
    "\n",
    "gender_label_encoder_test = LabelEncoder()"
   ]
  },
  {
   "cell_type": "code",
   "execution_count": 42,
   "metadata": {},
   "outputs": [],
   "source": [
    "X_new_test[:, 1] = geo_label_encoder_test.fit_transform(X_new_test[:, 1])"
   ]
  },
  {
   "cell_type": "code",
   "execution_count": 43,
   "metadata": {},
   "outputs": [
    {
     "data": {
      "text/plain": [
       "array([[683, 2, 'Male', 41, 0, 148863.17, 1, 1, 1, 163911.32],\n",
       "       [616, 0, 'Male', 29, 9, 0.0, 1, 1, 1, 166984.44],\n",
       "       [709, 1, 'Female', 39, 9, 124723.92, 1, 1, 0, 73641.86],\n",
       "       [808, 2, 'Male', 25, 7, 0.0, 2, 0, 1, 23180.37],\n",
       "       [659, 1, 'Female', 30, 8, 154159.51, 1, 1, 0, 40441.1]],\n",
       "      dtype=object)"
      ]
     },
     "execution_count": 43,
     "metadata": {},
     "output_type": "execute_result"
    }
   ],
   "source": [
    "X_new_test"
   ]
  },
  {
   "cell_type": "code",
   "execution_count": 44,
   "metadata": {},
   "outputs": [],
   "source": [
    "X_new_test[:, 2] = gender_label_encoder_test.fit_transform(X_new_test[:, 2])"
   ]
  },
  {
   "cell_type": "code",
   "execution_count": 45,
   "metadata": {},
   "outputs": [
    {
     "data": {
      "text/plain": [
       "array([[683, 2, 1, 41, 0, 148863.17, 1, 1, 1, 163911.32],\n",
       "       [616, 0, 1, 29, 9, 0.0, 1, 1, 1, 166984.44],\n",
       "       [709, 1, 0, 39, 9, 124723.92, 1, 1, 0, 73641.86],\n",
       "       [808, 2, 1, 25, 7, 0.0, 2, 0, 1, 23180.37],\n",
       "       [659, 1, 0, 30, 8, 154159.51, 1, 1, 0, 40441.1]], dtype=object)"
      ]
     },
     "execution_count": 45,
     "metadata": {},
     "output_type": "execute_result"
    }
   ],
   "source": [
    "X_new_test"
   ]
  },
  {
   "cell_type": "code",
   "execution_count": 46,
   "metadata": {},
   "outputs": [],
   "source": [
    "#One hot encoding\n",
    "onehot_encoder_test = OneHotEncoder(categorical_features = [1])"
   ]
  },
  {
   "cell_type": "code",
   "execution_count": 47,
   "metadata": {},
   "outputs": [
    {
     "name": "stderr",
     "output_type": "stream",
     "text": [
      "/usr/local/lib/python3.4/dist-packages/sklearn/preprocessing/_encoders.py:368: FutureWarning: The handling of integer data will change in version 0.22. Currently, the categories are determined based on the range [0, max(values)], while in the future they will be determined based on the unique values.\n",
      "If you want the future behaviour and silence this warning, you can specify \"categories='auto'\".\n",
      "In case you used a LabelEncoder before this OneHotEncoder to convert the categories to integers, then you can now use the OneHotEncoder directly.\n",
      "  warnings.warn(msg, FutureWarning)\n",
      "/usr/local/lib/python3.4/dist-packages/sklearn/preprocessing/_encoders.py:390: DeprecationWarning: The 'categorical_features' keyword is deprecated in version 0.20 and will be removed in 0.22. You can use the ColumnTransformer instead.\n",
      "  \"use the ColumnTransformer instead.\", DeprecationWarning)\n"
     ]
    }
   ],
   "source": [
    "X_new_test = onehot_encoder_test.fit_transform(X_new_test).toarray()"
   ]
  },
  {
   "cell_type": "code",
   "execution_count": 48,
   "metadata": {},
   "outputs": [
    {
     "data": {
      "text/plain": [
       "[0.0, 0.0, 1.0, 683.0, 1.0, 41.0, 0.0, 148863.17, 1.0, 1.0, 1.0, 163911.32]"
      ]
     },
     "execution_count": 48,
     "metadata": {},
     "output_type": "execute_result"
    }
   ],
   "source": [
    "#Check the sample of the encoded data\n",
    "[x for x in X_new_test[0]]"
   ]
  },
  {
   "cell_type": "code",
   "execution_count": 49,
   "metadata": {},
   "outputs": [],
   "source": [
    "#Avoid the dummy variable trap\n",
    "X_new_test = X_new_test[:, 1:]"
   ]
  },
  {
   "cell_type": "code",
   "execution_count": 50,
   "metadata": {},
   "outputs": [
    {
     "data": {
      "text/plain": [
       "[0.0, 1.0, 683.0, 1.0, 41.0, 0.0, 148863.17, 1.0, 1.0, 1.0, 163911.32]"
      ]
     },
     "execution_count": 50,
     "metadata": {},
     "output_type": "execute_result"
    }
   ],
   "source": [
    "[x for x in X_new_test[0]]"
   ]
  },
  {
   "cell_type": "code",
   "execution_count": 51,
   "metadata": {},
   "outputs": [],
   "source": [
    "#Scale the data\n",
    "test_scaler = StandardScaler()"
   ]
  },
  {
   "cell_type": "code",
   "execution_count": 52,
   "metadata": {},
   "outputs": [],
   "source": [
    "X_new_test = test_scaler.fit_transform(X_new_test)"
   ]
  },
  {
   "cell_type": "code",
   "execution_count": 53,
   "metadata": {},
   "outputs": [
    {
     "data": {
      "text/plain": [
       "array([-0.81649658,  1.22474487, -0.1867447 ,  0.81649658,  1.33443634,\n",
       "       -1.95133091,  0.89740508, -0.5       ,  0.5       ,  0.81649658,\n",
       "        1.15501108])"
      ]
     },
     "execution_count": 53,
     "metadata": {},
     "output_type": "execute_result"
    }
   ],
   "source": [
    "X_new_test[0]"
   ]
  },
  {
   "cell_type": "markdown",
   "metadata": {},
   "source": [
    "# Load the saved model"
   ]
  },
  {
   "cell_type": "code",
   "execution_count": 54,
   "metadata": {},
   "outputs": [],
   "source": [
    "saved_model = load_model('model/bank_customer_classification_model.h5')"
   ]
  },
  {
   "cell_type": "markdown",
   "metadata": {},
   "source": [
    "## Predict the probability of each customer leaving the bank"
   ]
  },
  {
   "cell_type": "code",
   "execution_count": 55,
   "metadata": {},
   "outputs": [],
   "source": [
    "y_test_predict = saved_model.predict(X_new_test)"
   ]
  },
  {
   "cell_type": "code",
   "execution_count": 56,
   "metadata": {},
   "outputs": [
    {
     "data": {
      "text/plain": [
       "array([[0.36057696],\n",
       "       [0.03769911],\n",
       "       [0.7195019 ],\n",
       "       [0.01057194],\n",
       "       [0.20874919]], dtype=float32)"
      ]
     },
     "execution_count": 56,
     "metadata": {},
     "output_type": "execute_result"
    }
   ],
   "source": [
    "#Probabilities\n",
    "y_test_predict"
   ]
  },
  {
   "cell_type": "code",
   "execution_count": 57,
   "metadata": {},
   "outputs": [
    {
     "data": {
      "text/html": [
       "<div>\n",
       "<style scoped>\n",
       "    .dataframe tbody tr th:only-of-type {\n",
       "        vertical-align: middle;\n",
       "    }\n",
       "\n",
       "    .dataframe tbody tr th {\n",
       "        vertical-align: top;\n",
       "    }\n",
       "\n",
       "    .dataframe thead th {\n",
       "        text-align: right;\n",
       "    }\n",
       "</style>\n",
       "<table border=\"1\" class=\"dataframe\">\n",
       "  <thead>\n",
       "    <tr style=\"text-align: right;\">\n",
       "      <th></th>\n",
       "      <th>RowNumber</th>\n",
       "      <th>CustomerId</th>\n",
       "      <th>Surname</th>\n",
       "      <th>CreditScore</th>\n",
       "      <th>Geography</th>\n",
       "      <th>Gender</th>\n",
       "      <th>Age</th>\n",
       "      <th>Tenure</th>\n",
       "      <th>Balance</th>\n",
       "      <th>NumOfProducts</th>\n",
       "      <th>HasCrCard</th>\n",
       "      <th>IsActiveMember</th>\n",
       "      <th>EstimatedSalary</th>\n",
       "      <th>Exited</th>\n",
       "    </tr>\n",
       "  </thead>\n",
       "  <tbody>\n",
       "    <tr>\n",
       "      <th>4103</th>\n",
       "      <td>4104</td>\n",
       "      <td>15693337</td>\n",
       "      <td>Perry</td>\n",
       "      <td>683</td>\n",
       "      <td>Spain</td>\n",
       "      <td>Male</td>\n",
       "      <td>41</td>\n",
       "      <td>0</td>\n",
       "      <td>148863.17</td>\n",
       "      <td>1</td>\n",
       "      <td>1</td>\n",
       "      <td>1</td>\n",
       "      <td>163911.32</td>\n",
       "      <td>0</td>\n",
       "    </tr>\n",
       "    <tr>\n",
       "      <th>5330</th>\n",
       "      <td>5331</td>\n",
       "      <td>15626212</td>\n",
       "      <td>Wark</td>\n",
       "      <td>616</td>\n",
       "      <td>France</td>\n",
       "      <td>Male</td>\n",
       "      <td>29</td>\n",
       "      <td>9</td>\n",
       "      <td>0.00</td>\n",
       "      <td>1</td>\n",
       "      <td>1</td>\n",
       "      <td>1</td>\n",
       "      <td>166984.44</td>\n",
       "      <td>0</td>\n",
       "    </tr>\n",
       "    <tr>\n",
       "      <th>4108</th>\n",
       "      <td>4109</td>\n",
       "      <td>15769389</td>\n",
       "      <td>Wan</td>\n",
       "      <td>709</td>\n",
       "      <td>Germany</td>\n",
       "      <td>Female</td>\n",
       "      <td>39</td>\n",
       "      <td>9</td>\n",
       "      <td>124723.92</td>\n",
       "      <td>1</td>\n",
       "      <td>1</td>\n",
       "      <td>0</td>\n",
       "      <td>73641.86</td>\n",
       "      <td>0</td>\n",
       "    </tr>\n",
       "    <tr>\n",
       "      <th>7680</th>\n",
       "      <td>7681</td>\n",
       "      <td>15665181</td>\n",
       "      <td>Chung</td>\n",
       "      <td>808</td>\n",
       "      <td>Spain</td>\n",
       "      <td>Male</td>\n",
       "      <td>25</td>\n",
       "      <td>7</td>\n",
       "      <td>0.00</td>\n",
       "      <td>2</td>\n",
       "      <td>0</td>\n",
       "      <td>1</td>\n",
       "      <td>23180.37</td>\n",
       "      <td>0</td>\n",
       "    </tr>\n",
       "    <tr>\n",
       "      <th>4631</th>\n",
       "      <td>4632</td>\n",
       "      <td>15706116</td>\n",
       "      <td>McKay</td>\n",
       "      <td>659</td>\n",
       "      <td>Germany</td>\n",
       "      <td>Female</td>\n",
       "      <td>30</td>\n",
       "      <td>8</td>\n",
       "      <td>154159.51</td>\n",
       "      <td>1</td>\n",
       "      <td>1</td>\n",
       "      <td>0</td>\n",
       "      <td>40441.10</td>\n",
       "      <td>0</td>\n",
       "    </tr>\n",
       "  </tbody>\n",
       "</table>\n",
       "</div>"
      ],
      "text/plain": [
       "      RowNumber  CustomerId Surname  CreditScore Geography  Gender  Age  \\\n",
       "4103       4104    15693337   Perry          683     Spain    Male   41   \n",
       "5330       5331    15626212    Wark          616    France    Male   29   \n",
       "4108       4109    15769389     Wan          709   Germany  Female   39   \n",
       "7680       7681    15665181   Chung          808     Spain    Male   25   \n",
       "4631       4632    15706116   McKay          659   Germany  Female   30   \n",
       "\n",
       "      Tenure    Balance  NumOfProducts  HasCrCard  IsActiveMember  \\\n",
       "4103       0  148863.17              1          1               1   \n",
       "5330       9       0.00              1          1               1   \n",
       "4108       9  124723.92              1          1               0   \n",
       "7680       7       0.00              2          0               1   \n",
       "4631       8  154159.51              1          1               0   \n",
       "\n",
       "      EstimatedSalary  Exited  \n",
       "4103        163911.32       0  \n",
       "5330        166984.44       0  \n",
       "4108         73641.86       0  \n",
       "7680         23180.37       0  \n",
       "4631         40441.10       0  "
      ]
     },
     "execution_count": 57,
     "metadata": {},
     "output_type": "execute_result"
    }
   ],
   "source": [
    "test_dataset"
   ]
  },
  {
   "cell_type": "code",
   "execution_count": 58,
   "metadata": {},
   "outputs": [],
   "source": [
    "surnames = test_dataset['Surname']"
   ]
  },
  {
   "cell_type": "code",
   "execution_count": 59,
   "metadata": {},
   "outputs": [],
   "source": [
    "surnames = [x for x in surnames]"
   ]
  },
  {
   "cell_type": "code",
   "execution_count": 60,
   "metadata": {},
   "outputs": [],
   "source": [
    "probabilities = [x[0] for x in y_test_predict]"
   ]
  },
  {
   "cell_type": "code",
   "execution_count": 61,
   "metadata": {},
   "outputs": [
    {
     "data": {
      "text/plain": [
       "[0.36057696, 0.037699107, 0.7195019, 0.01057194, 0.20874919]"
      ]
     },
     "execution_count": 61,
     "metadata": {},
     "output_type": "execute_result"
    }
   ],
   "source": [
    "probabilities"
   ]
  },
  {
   "cell_type": "code",
   "execution_count": 62,
   "metadata": {},
   "outputs": [
    {
     "name": "stdout",
     "output_type": "stream",
     "text": [
      "Perry has 36.06% probability of leaving the bank.\n",
      "\n",
      "Wark has 3.77% probability of leaving the bank.\n",
      "\n",
      "Wan has 71.95% probability of leaving the bank.\n",
      "\n",
      "Chung has 1.06% probability of leaving the bank.\n",
      "\n",
      "McKay has 20.87% probability of leaving the bank.\n",
      "\n"
     ]
    }
   ],
   "source": [
    "for index, probability in enumerate(probabilities):\n",
    "    print('{} has {:.2f}% probability of leaving the bank.\\n'.format(surnames[index], probability*100))"
   ]
  },
  {
   "cell_type": "code",
   "execution_count": null,
   "metadata": {},
   "outputs": [],
   "source": []
  }
 ],
 "metadata": {
  "kernelspec": {
   "display_name": "Python 3",
   "language": "python",
   "name": "python3"
  },
  "language_info": {
   "codemirror_mode": {
    "name": "ipython",
    "version": 3
   },
   "file_extension": ".py",
   "mimetype": "text/x-python",
   "name": "python",
   "nbconvert_exporter": "python",
   "pygments_lexer": "ipython3",
   "version": "3.4.3"
  }
 },
 "nbformat": 4,
 "nbformat_minor": 2
}
